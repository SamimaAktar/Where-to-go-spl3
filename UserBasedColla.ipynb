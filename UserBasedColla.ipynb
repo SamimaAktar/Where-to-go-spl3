{
 "cells": [
  {
   "cell_type": "code",
   "execution_count": 1,
   "metadata": {},
   "outputs": [
    {
     "ename": "ModuleNotFoundError",
     "evalue": "No module named 'numpy'",
     "output_type": "error",
     "traceback": [
      "\u001b[1;31m---------------------------------------------------------------------------\u001b[0m",
      "\u001b[1;31mModuleNotFoundError\u001b[0m                       Traceback (most recent call last)",
      "\u001b[1;32m<ipython-input-1-59de17274dbb>\u001b[0m in \u001b[0;36m<module>\u001b[1;34m\u001b[0m\n\u001b[1;32m----> 1\u001b[1;33m \u001b[1;32mimport\u001b[0m \u001b[0mnumpy\u001b[0m \u001b[1;32mas\u001b[0m \u001b[0mnp\u001b[0m\u001b[1;33m\u001b[0m\u001b[1;33m\u001b[0m\u001b[0m\n\u001b[0m\u001b[0;32m      2\u001b[0m \u001b[1;32mimport\u001b[0m \u001b[0mpandas\u001b[0m \u001b[1;32mas\u001b[0m \u001b[0mpd\u001b[0m\u001b[1;33m\u001b[0m\u001b[1;33m\u001b[0m\u001b[0m\n\u001b[0;32m      3\u001b[0m \u001b[1;32mimport\u001b[0m \u001b[0mcsv\u001b[0m\u001b[1;33m\u001b[0m\u001b[1;33m\u001b[0m\u001b[0m\n\u001b[0;32m      4\u001b[0m \u001b[1;32mfrom\u001b[0m \u001b[0msklearn\u001b[0m\u001b[1;33m.\u001b[0m\u001b[0mmetrics\u001b[0m\u001b[1;33m.\u001b[0m\u001b[0mpairwise\u001b[0m \u001b[1;32mimport\u001b[0m \u001b[0mcosine_similarity\u001b[0m\u001b[1;33m\u001b[0m\u001b[1;33m\u001b[0m\u001b[0m\n\u001b[0;32m      5\u001b[0m \u001b[1;32mfrom\u001b[0m \u001b[0mnumpy\u001b[0m\u001b[1;33m.\u001b[0m\u001b[0mlinalg\u001b[0m \u001b[1;32mimport\u001b[0m \u001b[0mnorm\u001b[0m\u001b[1;33m\u001b[0m\u001b[1;33m\u001b[0m\u001b[0m\n",
      "\u001b[1;31mModuleNotFoundError\u001b[0m: No module named 'numpy'"
     ]
    }
   ],
   "source": [
    "import numpy as np\n",
    "import pandas as pd\n",
    "import csv\n",
    "from sklearn.metrics.pairwise import cosine_similarity\n",
    "from numpy.linalg import norm\n",
    "from collections import defaultdict"
   ]
  },
  {
   "cell_type": "code",
   "execution_count": 2,
   "metadata": {},
   "outputs": [
    {
     "ename": "NameError",
     "evalue": "name 'pd' is not defined",
     "output_type": "error",
     "traceback": [
      "\u001b[1;31m---------------------------------------------------------------------------\u001b[0m",
      "\u001b[1;31mNameError\u001b[0m                                 Traceback (most recent call last)",
      "\u001b[1;32m<ipython-input-2-aec5fe28ee07>\u001b[0m in \u001b[0;36m<module>\u001b[1;34m\u001b[0m\n\u001b[1;32m----> 1\u001b[1;33m \u001b[0mtrain_data\u001b[0m\u001b[1;33m=\u001b[0m\u001b[0mpd\u001b[0m\u001b[1;33m.\u001b[0m\u001b[0mread_csv\u001b[0m\u001b[1;33m(\u001b[0m\u001b[1;34m'../gowalla/Tourist_place1.csv'\u001b[0m\u001b[1;33m)\u001b[0m\u001b[1;33m\u001b[0m\u001b[1;33m\u001b[0m\u001b[0m\n\u001b[0m",
      "\u001b[1;31mNameError\u001b[0m: name 'pd' is not defined"
     ]
    }
   ],
   "source": [
    "train_data=pd.read_csv('../gowalla/Tourist_place1.csv')"
   ]
  },
  {
   "cell_type": "code",
   "execution_count": 3,
   "metadata": {},
   "outputs": [
    {
     "ename": "NameError",
     "evalue": "name 'train_data' is not defined",
     "output_type": "error",
     "traceback": [
      "\u001b[1;31m---------------------------------------------------------------------------\u001b[0m",
      "\u001b[1;31mNameError\u001b[0m                                 Traceback (most recent call last)",
      "\u001b[1;32m<ipython-input-3-c4dda1b59424>\u001b[0m in \u001b[0;36m<module>\u001b[1;34m\u001b[0m\n\u001b[1;32m----> 1\u001b[1;33m \u001b[0mtrain_data\u001b[0m\u001b[1;33m.\u001b[0m\u001b[0mhead\u001b[0m\u001b[1;33m(\u001b[0m\u001b[1;33m)\u001b[0m\u001b[1;33m\u001b[0m\u001b[1;33m\u001b[0m\u001b[0m\n\u001b[0m",
      "\u001b[1;31mNameError\u001b[0m: name 'train_data' is not defined"
     ]
    }
   ],
   "source": [
    "train_data.head()"
   ]
  },
  {
   "cell_type": "code",
   "execution_count": 4,
   "metadata": {},
   "outputs": [],
   "source": [
    "def read_training_data():\n",
    "    size_file =\"../Dataset2/Gowalla_data_size.txt\"\n",
    "    user_num, poi_num = open(size_file, 'r').readlines()[0].strip('\\n').split()\n",
    "    user_num, poi_num = int(user_num), int(poi_num)\n",
    "    train_data = open('../Dataset2/Gowalla_train.txt', 'r').readlines()\n",
    "    training_matrix = np.zeros((user_num, poi_num))\n",
    "    count=0\n",
    "    for eachline in train_data:\n",
    "        uid, lid, _ = eachline.strip().split()\n",
    "        uid, lid = int(uid), int(lid)\n",
    "        training_matrix[uid, lid] = 1.0\n",
    "        ++count\n",
    "        if(count==5000):\n",
    "            break\n",
    "    return training_matrix"
   ]
  },
  {
   "cell_type": "code",
   "execution_count": 5,
   "metadata": {},
   "outputs": [
    {
     "ename": "NameError",
     "evalue": "name 'np' is not defined",
     "output_type": "error",
     "traceback": [
      "\u001b[1;31m---------------------------------------------------------------------------\u001b[0m",
      "\u001b[1;31mNameError\u001b[0m                                 Traceback (most recent call last)",
      "\u001b[1;32m<ipython-input-5-292f49903a35>\u001b[0m in \u001b[0;36m<module>\u001b[1;34m\u001b[0m\n\u001b[1;32m----> 1\u001b[1;33m \u001b[0mread_training_data\u001b[0m\u001b[1;33m(\u001b[0m\u001b[1;33m)\u001b[0m\u001b[1;33m\u001b[0m\u001b[1;33m\u001b[0m\u001b[0m\n\u001b[0m",
      "\u001b[1;32m<ipython-input-4-48dc72c26e36>\u001b[0m in \u001b[0;36mread_training_data\u001b[1;34m()\u001b[0m\n\u001b[0;32m      4\u001b[0m     \u001b[0muser_num\u001b[0m\u001b[1;33m,\u001b[0m \u001b[0mpoi_num\u001b[0m \u001b[1;33m=\u001b[0m \u001b[0mint\u001b[0m\u001b[1;33m(\u001b[0m\u001b[0muser_num\u001b[0m\u001b[1;33m)\u001b[0m\u001b[1;33m,\u001b[0m \u001b[0mint\u001b[0m\u001b[1;33m(\u001b[0m\u001b[0mpoi_num\u001b[0m\u001b[1;33m)\u001b[0m\u001b[1;33m\u001b[0m\u001b[1;33m\u001b[0m\u001b[0m\n\u001b[0;32m      5\u001b[0m     \u001b[0mtrain_data\u001b[0m \u001b[1;33m=\u001b[0m \u001b[0mopen\u001b[0m\u001b[1;33m(\u001b[0m\u001b[1;34m'../Dataset2/Gowalla_train.txt'\u001b[0m\u001b[1;33m,\u001b[0m \u001b[1;34m'r'\u001b[0m\u001b[1;33m)\u001b[0m\u001b[1;33m.\u001b[0m\u001b[0mreadlines\u001b[0m\u001b[1;33m(\u001b[0m\u001b[1;33m)\u001b[0m\u001b[1;33m\u001b[0m\u001b[1;33m\u001b[0m\u001b[0m\n\u001b[1;32m----> 6\u001b[1;33m     \u001b[0mtraining_matrix\u001b[0m \u001b[1;33m=\u001b[0m \u001b[0mnp\u001b[0m\u001b[1;33m.\u001b[0m\u001b[0mzeros\u001b[0m\u001b[1;33m(\u001b[0m\u001b[1;33m(\u001b[0m\u001b[0muser_num\u001b[0m\u001b[1;33m,\u001b[0m \u001b[0mpoi_num\u001b[0m\u001b[1;33m)\u001b[0m\u001b[1;33m)\u001b[0m\u001b[1;33m\u001b[0m\u001b[1;33m\u001b[0m\u001b[0m\n\u001b[0m\u001b[0;32m      7\u001b[0m     \u001b[0mcount\u001b[0m\u001b[1;33m=\u001b[0m\u001b[1;36m0\u001b[0m\u001b[1;33m\u001b[0m\u001b[1;33m\u001b[0m\u001b[0m\n\u001b[0;32m      8\u001b[0m     \u001b[1;32mfor\u001b[0m \u001b[0meachline\u001b[0m \u001b[1;32min\u001b[0m \u001b[0mtrain_data\u001b[0m\u001b[1;33m:\u001b[0m\u001b[1;33m\u001b[0m\u001b[1;33m\u001b[0m\u001b[0m\n",
      "\u001b[1;31mNameError\u001b[0m: name 'np' is not defined"
     ]
    }
   ],
   "source": [
    "read_training_data()"
   ]
  },
  {
   "cell_type": "code",
   "execution_count": 6,
   "metadata": {},
   "outputs": [
    {
     "ename": "NameError",
     "evalue": "name 'np' is not defined",
     "output_type": "error",
     "traceback": [
      "\u001b[1;31m---------------------------------------------------------------------------\u001b[0m",
      "\u001b[1;31mNameError\u001b[0m                                 Traceback (most recent call last)",
      "\u001b[1;32m<ipython-input-6-1b14f5da8c10>\u001b[0m in \u001b[0;36m<module>\u001b[1;34m\u001b[0m\n\u001b[1;32m----> 1\u001b[1;33m \u001b[0mprocessdata\u001b[0m\u001b[1;33m=\u001b[0m\u001b[0mnp\u001b[0m\u001b[1;33m.\u001b[0m\u001b[0mzeros\u001b[0m\u001b[1;33m(\u001b[0m\u001b[1;33m(\u001b[0m\u001b[0mtrain_data\u001b[0m\u001b[1;33m.\u001b[0m\u001b[0muser_id\u001b[0m\u001b[1;33m.\u001b[0m\u001b[0munique\u001b[0m\u001b[1;33m(\u001b[0m\u001b[1;33m)\u001b[0m\u001b[1;33m.\u001b[0m\u001b[0mshape\u001b[0m\u001b[1;33m[\u001b[0m\u001b[1;36m0\u001b[0m\u001b[1;33m]\u001b[0m\u001b[1;33m,\u001b[0m\u001b[0mtrain_data\u001b[0m\u001b[1;33m.\u001b[0m\u001b[0mplace_id\u001b[0m\u001b[1;33m.\u001b[0m\u001b[0munique\u001b[0m\u001b[1;33m(\u001b[0m\u001b[1;33m)\u001b[0m\u001b[1;33m.\u001b[0m\u001b[0mshape\u001b[0m\u001b[1;33m[\u001b[0m\u001b[1;36m0\u001b[0m\u001b[1;33m]\u001b[0m\u001b[1;33m)\u001b[0m\u001b[1;33m)\u001b[0m\u001b[1;33m\u001b[0m\u001b[1;33m\u001b[0m\u001b[0m\n\u001b[0m",
      "\u001b[1;31mNameError\u001b[0m: name 'np' is not defined"
     ]
    }
   ],
   "source": [
    "processdata=np.zeros((train_data.user_id.unique().shape[0],train_data.place_id.unique().shape[0]))"
   ]
  },
  {
   "cell_type": "code",
   "execution_count": 159,
   "metadata": {},
   "outputs": [
    {
     "name": "stdout",
     "output_type": "stream",
     "text": [
      "1 3\n",
      "2 5\n",
      "3 4\n",
      "4 2\n",
      "5 1\n",
      "1 4\n",
      "2 2\n",
      "3 3\n",
      "0 0\n",
      "0 4\n"
     ]
    }
   ],
   "source": [
    "for x,checkin in train_data.iterrows():\n",
    "    print(checkin[0],checkin[1])\n",
    "    processdata[checkin[0]][checkin[1]]=checkin[4]"
   ]
  },
  {
   "cell_type": "code",
   "execution_count": 35,
   "metadata": {},
   "outputs": [
    {
     "name": "stdout",
     "output_type": "stream",
     "text": [
      "[[1. 0. 0. 0. 2. 0.]\n",
      " [0. 0. 0. 1. 2. 0.]\n",
      " [0. 0. 1. 0. 0. 2.]\n",
      " [0. 0. 0. 1. 2. 0.]\n",
      " [0. 0. 1. 0. 0. 0.]\n",
      " [0. 1. 0. 0. 0. 0.]]\n"
     ]
    }
   ],
   "source": [
    "print(processdata)"
   ]
  },
  {
   "cell_type": "code",
   "execution_count": 160,
   "metadata": {},
   "outputs": [],
   "source": [
    "def pre_compute_rec_scores(C):\n",
    "        sim = C.dot(C.T)\n",
    "        sim=sim/(norm(C,axis=1)*norm(C.T,axis=0))\n",
    "        print(sim)\n",
    "        norms = [norm(C[i]) for i in range(C.shape[0])]\n",
    "        print(norms)\n",
    "        for i in range(C.shape[0]):\n",
    "            sim[i][i] = 0.0\n",
    "            for j in range(i+1, C.shape[0]):\n",
    "                sim[i][j] /= (norms[i] * norms[j])\n",
    "                sim[j][i] /= (norms[i] * norms[j])\n",
    "\n",
    "        rec_score = sim.dot(C)\n",
    "       \n",
    "        return sim"
   ]
  },
  {
   "cell_type": "code",
   "execution_count": 161,
   "metadata": {},
   "outputs": [
    {
     "name": "stdout",
     "output_type": "stream",
     "text": [
      "[[1.  0.8 0.  0.8 0.  0. ]\n",
      " [0.8 1.  0.  1.  0.  0. ]\n",
      " [0.  0.  1.  0.  1.  0. ]\n",
      " [0.8 1.  0.  1.  0.  0. ]\n",
      " [0.  0.  0.2 0.  1.  0. ]\n",
      " [0.  0.  0.  0.  0.  1. ]]\n",
      "[2.23606797749979, 2.23606797749979, 2.23606797749979, 2.23606797749979, 1.0, 1.0]\n"
     ]
    },
    {
     "data": {
      "text/plain": [
       "array([[0.        , 0.16      , 0.        , 0.16      , 0.        ,\n",
       "        0.        ],\n",
       "       [0.16      , 0.        , 0.        , 0.2       , 0.        ,\n",
       "        0.        ],\n",
       "       [0.        , 0.        , 0.        , 0.        , 0.4472136 ,\n",
       "        0.        ],\n",
       "       [0.16      , 0.2       , 0.        , 0.        , 0.        ,\n",
       "        0.        ],\n",
       "       [0.        , 0.        , 0.08944272, 0.        , 0.        ,\n",
       "        0.        ],\n",
       "       [0.        , 0.        , 0.        , 0.        , 0.        ,\n",
       "        0.        ]])"
      ]
     },
     "execution_count": 161,
     "metadata": {},
     "output_type": "execute_result"
    }
   ],
   "source": [
    "pre_compute_rec_scores(processdata)"
   ]
  },
  {
   "cell_type": "code",
   "execution_count": 162,
   "metadata": {},
   "outputs": [
    {
     "data": {
      "text/plain": [
       "array([[1.       , 0.8      , 0.       , 0.8      , 0.       , 0.       ],\n",
       "       [0.8      , 1.       , 0.       , 1.       , 0.       , 0.       ],\n",
       "       [0.       , 0.       , 1.       , 0.       , 0.4472136, 0.       ],\n",
       "       [0.8      , 1.       , 0.       , 1.       , 0.       , 0.       ],\n",
       "       [0.       , 0.       , 0.4472136, 0.       , 1.       , 0.       ],\n",
       "       [0.       , 0.       , 0.       , 0.       , 0.       , 1.       ]])"
      ]
     },
     "execution_count": 162,
     "metadata": {},
     "output_type": "execute_result"
    }
   ],
   "source": [
    "cosine_similarity(processdata)"
   ]
  },
  {
   "cell_type": "code",
   "execution_count": 163,
   "metadata": {},
   "outputs": [
    {
     "name": "stdout",
     "output_type": "stream",
     "text": [
      "[[1.        0.8       0.        0.8       0.        0.       ]\n",
      " [0.8       1.        0.        1.        0.        0.       ]\n",
      " [0.        0.        1.        0.        0.4472136 0.       ]\n",
      " [0.8       1.        0.        1.        0.        0.       ]\n",
      " [0.        0.        0.4472136 0.        1.        0.       ]\n",
      " [0.        0.        0.        0.        0.        1.       ]]\n"
     ]
    }
   ],
   "source": [
    "def cosine_similarity(train_matrix, kind='user', epsilon=1e-9):\n",
    "    # epsilon -> small number for handling dived-by-zero errors\n",
    "    if kind == 'user':\n",
    "        sim = train_matrix.dot(train_matrix.T) \n",
    "    elif kind == 'location':\n",
    "        sim = train_matrix.T.dot(train_matrix) \n",
    "    norms = np.array([np.sqrt(np.diagonal(sim))])\n",
    "    return (sim / norms / norms.T)\n",
    "\n",
    "user_similarity = cosine_similarity(processdata, kind='user')\n",
    "print(user_similarity)"
   ]
  },
  {
   "cell_type": "code",
   "execution_count": 164,
   "metadata": {},
   "outputs": [
    {
     "name": "stdout",
     "output_type": "stream",
     "text": [
      "[[0.38461538 0.         0.         0.61538462 2.         0.        ]\n",
      " [0.28571429 0.         0.         0.71428571 2.         0.        ]\n",
      " [0.         0.         1.         0.         0.         1.38196601]\n",
      " [0.28571429 0.         0.         0.71428571 2.         0.        ]\n",
      " [0.         0.         1.         0.         0.         0.61803399]\n",
      " [0.         1.         0.         0.         0.         0.        ]]\n"
     ]
    }
   ],
   "source": [
    "def predict(checkins, similarity, type='user'):\n",
    "    if type == 'user':\n",
    "        pred = similarity.dot(checkins)/np.array([np.abs(similarity).sum(axis=1)]).T        \n",
    "    elif type == 'item':\n",
    "        pred = checkins.dot(similarity)/np.array([np.abs(similarity).sum(axis=1)])\n",
    "        \n",
    "    return pred\n",
    "\n",
    "user_prediction = predict(processdata, user_similarity, type='user')\n",
    "print(user_prediction)"
   ]
  },
  {
   "cell_type": "code",
   "execution_count": 165,
   "metadata": {},
   "outputs": [],
   "source": [
    "def read_ground_truth():\n",
    "    ground_truth = defaultdict(set)\n",
    "    dataset=pd.read_csv('../gowalla/test.csv')\n",
    "    for x,checkin in dataset.iterrows():\n",
    "        ground_truth[checkin[0]].add(checkin[1])\n",
    "    return ground_truth"
   ]
  },
  {
   "cell_type": "code",
   "execution_count": 166,
   "metadata": {},
   "outputs": [],
   "source": [
    "ground_truth=read_ground_truth()"
   ]
  },
  {
   "cell_type": "code",
   "execution_count": 167,
   "metadata": {},
   "outputs": [],
   "source": [
    "def precision_k(actual, predicted):\n",
    "    return 1.0 * len(set(actual) & set(predicted)) / len(predicted)\n",
    "\n",
    "\n",
    "def recall_k(actual, predicted):\n",
    "    return 1.0 * len(set(actual) & set(predicted)) / len(actual)"
   ]
  },
  {
   "cell_type": "code",
   "execution_count": 168,
   "metadata": {},
   "outputs": [],
   "source": [
    "def normalize(scores):\n",
    "    max_score = max(scores)\n",
    "    if not max_score == 0:\n",
    "        scores = [s / max_score for s in scores]\n",
    "    return scores"
   ]
  },
  {
   "cell_type": "code",
   "execution_count": 7,
   "metadata": {},
   "outputs": [
    {
     "ename": "NameError",
     "evalue": "name 'pd' is not defined",
     "output_type": "error",
     "traceback": [
      "\u001b[1;31m---------------------------------------------------------------------------\u001b[0m",
      "\u001b[1;31mNameError\u001b[0m                                 Traceback (most recent call last)",
      "\u001b[1;32m<ipython-input-7-edada98479e9>\u001b[0m in \u001b[0;36m<module>\u001b[1;34m\u001b[0m\n\u001b[1;32m----> 1\u001b[1;33m \u001b[0mdataset2\u001b[0m\u001b[1;33m=\u001b[0m\u001b[0mpd\u001b[0m\u001b[1;33m.\u001b[0m\u001b[0mread_csv\u001b[0m\u001b[1;33m(\u001b[0m\u001b[1;34m'../gowalla/test.csv'\u001b[0m\u001b[1;33m)\u001b[0m\u001b[1;33m\u001b[0m\u001b[1;33m\u001b[0m\u001b[0m\n\u001b[0m\u001b[0;32m      2\u001b[0m \u001b[0muser_num\u001b[0m\u001b[1;33m,\u001b[0m \u001b[0mpoi_num\u001b[0m \u001b[1;33m=\u001b[0m\u001b[0mdataset2\u001b[0m\u001b[1;33m.\u001b[0m\u001b[0muser_id\u001b[0m\u001b[1;33m.\u001b[0m\u001b[0munique\u001b[0m\u001b[1;33m(\u001b[0m\u001b[1;33m)\u001b[0m\u001b[1;33m.\u001b[0m\u001b[0mshape\u001b[0m\u001b[1;33m[\u001b[0m\u001b[1;36m0\u001b[0m\u001b[1;33m]\u001b[0m \u001b[1;33m,\u001b[0m\u001b[0mdataset2\u001b[0m\u001b[1;33m.\u001b[0m\u001b[0mplace_id\u001b[0m\u001b[1;33m.\u001b[0m\u001b[0munique\u001b[0m\u001b[1;33m(\u001b[0m\u001b[1;33m)\u001b[0m\u001b[1;33m.\u001b[0m\u001b[0mshape\u001b[0m\u001b[1;33m[\u001b[0m\u001b[1;36m0\u001b[0m\u001b[1;33m]\u001b[0m\u001b[1;33m\u001b[0m\u001b[1;33m\u001b[0m\u001b[0m\n\u001b[0;32m      3\u001b[0m \u001b[0mall_uids\u001b[0m \u001b[1;33m=\u001b[0m \u001b[0mlist\u001b[0m\u001b[1;33m(\u001b[0m\u001b[0mrange\u001b[0m\u001b[1;33m(\u001b[0m\u001b[0muser_num\u001b[0m\u001b[1;33m)\u001b[0m\u001b[1;33m)\u001b[0m\u001b[1;33m\u001b[0m\u001b[1;33m\u001b[0m\u001b[0m\n\u001b[0;32m      4\u001b[0m \u001b[0mall_lids\u001b[0m \u001b[1;33m=\u001b[0m \u001b[0mlist\u001b[0m\u001b[1;33m(\u001b[0m\u001b[0mrange\u001b[0m\u001b[1;33m(\u001b[0m\u001b[0mpoi_num\u001b[0m\u001b[1;33m)\u001b[0m\u001b[1;33m)\u001b[0m\u001b[1;33m\u001b[0m\u001b[1;33m\u001b[0m\u001b[0m\n\u001b[0;32m      5\u001b[0m \u001b[0mnp\u001b[0m\u001b[1;33m.\u001b[0m\u001b[0mrandom\u001b[0m\u001b[1;33m.\u001b[0m\u001b[0mshuffle\u001b[0m\u001b[1;33m(\u001b[0m\u001b[0mall_uids\u001b[0m\u001b[1;33m)\u001b[0m\u001b[1;33m\u001b[0m\u001b[1;33m\u001b[0m\u001b[0m\n",
      "\u001b[1;31mNameError\u001b[0m: name 'pd' is not defined"
     ]
    }
   ],
   "source": [
    "dataset2=pd.read_csv('../gowalla/test.csv')\n",
    "user_num, poi_num =dataset2.user_id.unique().shape[0] ,dataset2.place_id.unique().shape[0]\n",
    "all_uids = list(range(user_num))\n",
    "all_lids = list(range(poi_num))\n",
    "np.random.shuffle(all_uids)\n",
    "precision, recall = [], []\n",
    "alpha = 0.1\n",
    "beta = 0.1\n",
    "for cnt, uid in enumerate(all_uids):\n",
    "        if uid in ground_truth:\n",
    "            U_scores = normalize([user_prediction[uid][lid]\n",
    "                                  if processdata[uid, lid] == 0 else 1\n",
    "                                  for lid in all_lids])\n",
    "        \n",
    "\n",
    "            U_scores = np.array(U_scores)\n",
    "        \n",
    "            overall_scores = (1.0 - alpha - beta) * U_scores + alpha * 0 + beta * 0\n",
    "\n",
    "            predicted = list(reversed(overall_scores.argsort()))[:6]\n",
    "            actual = ground_truth[uid]\n",
    "\n",
    "            precision.append(precision_k(actual, predicted[:6]))\n",
    "            recall.append(recall_k(actual, predicted[:3]))\n",
    "            print(cnt,uid, \"pre: \", np.mean(precision), \"rec: \", np.mean(recall))\n",
    "            print(\"user_id: \"+str(uid))\n",
    "            print(\"Location_id:\",np.array([lid for lid in predicted]))\n",
    "            count=0\n",
    "            for lid in predicted:\n",
    "                count+=1\n",
    "                print(\"Rank:\"+str(count),train_data.loc[train_data['place_id']==lid ,'place_name'][:1])\n",
    "            print(\"\\n\")\n",
    "           \n",
    "            "
   ]
  },
  {
   "cell_type": "code",
   "execution_count": null,
   "metadata": {},
   "outputs": [],
   "source": []
  }
 ],
 "metadata": {
  "kernelspec": {
   "display_name": "Python 3",
   "language": "python",
   "name": "python3"
  },
  "language_info": {
   "codemirror_mode": {
    "name": "ipython",
    "version": 3
   },
   "file_extension": ".py",
   "mimetype": "text/x-python",
   "name": "python",
   "nbconvert_exporter": "python",
   "pygments_lexer": "ipython3",
   "version": "3.7.4"
  }
 },
 "nbformat": 4,
 "nbformat_minor": 2
}
